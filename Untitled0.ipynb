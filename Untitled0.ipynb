{
  "nbformat": 4,
  "nbformat_minor": 0,
  "metadata": {
    "colab": {
      "name": "Untitled0.ipynb",
      "provenance": [],
      "authorship_tag": "ABX9TyMVTCN7bDkbFKZ4YwMTQIkD",
      "include_colab_link": true
    },
    "kernelspec": {
      "name": "python3",
      "display_name": "Python 3"
    },
    "language_info": {
      "name": "python"
    }
  },
  "cells": [
    {
      "cell_type": "markdown",
      "metadata": {
        "id": "view-in-github",
        "colab_type": "text"
      },
      "source": [
        "<a href=\"https://colab.research.google.com/github/ishikanisha28/INISHA_ADVANCE-MACHINE-LEARNING/blob/main/Untitled0.ipynb\" target=\"_parent\"><img src=\"https://colab.research.google.com/assets/colab-badge.svg\" alt=\"Open In Colab\"/></a>"
      ]
    },
    {
      "cell_type": "markdown",
      "source": [
        "# Importing the required libraries"
      ],
      "metadata": {
        "id": "HaX63bIL0shR"
      }
    },
    {
      "cell_type": "code",
      "execution_count": null,
      "metadata": {
        "id": "jBOBdVYp0Dk9"
      },
      "outputs": [],
      "source": [
        "import matplotlib\n",
        "import matplotlib.pyplot as plt\n",
        "import numpy as np\n",
        "from keras import models\n",
        "from keras import layers\n"
      ]
    },
    {
      "cell_type": "markdown",
      "source": [
        "# Loading the IMDB dataset using tensorflow and keras"
      ],
      "metadata": {
        "id": "gyY4nA8I0zdm"
      }
    },
    {
      "cell_type": "code",
      "source": [
        "from tensorflow.keras.datasets import imdb\n",
        "(train_data, train_labels), (test_data, test_labels) = imdb.load_data(\n",
        "num_words=10000)\n"
      ],
      "metadata": {
        "id": "4fM_A_fN0P3f",
        "colab": {
          "base_uri": "https://localhost:8080/",
          "height": 0
        },
        "outputId": "6476032f-e12e-4d84-e457-9a3d3bae001e"
      },
      "execution_count": 3,
      "outputs": [
        {
          "output_type": "stream",
          "name": "stdout",
          "text": [
            "Downloading data from https://storage.googleapis.com/tensorflow/tf-keras-datasets/imdb.npz\n",
            "17465344/17464789 [==============================] - 0s 0us/step\n",
            "17473536/17464789 [==============================] - 0s 0us/step\n"
          ]
        }
      ]
    },
    {
      "cell_type": "code",
      "source": [
        "train_data[0]"
      ],
      "metadata": {
        "colab": {
          "base_uri": "https://localhost:8080/",
          "height": 0
        },
        "id": "xwWwnA7x1Bzs",
        "outputId": "1a46e633-fc79-40b3-e439-954cb0072c7a"
      },
      "execution_count": 4,
      "outputs": [
        {
          "output_type": "execute_result",
          "data": {
            "text/plain": [
              "[1,\n",
              " 14,\n",
              " 22,\n",
              " 16,\n",
              " 43,\n",
              " 530,\n",
              " 973,\n",
              " 1622,\n",
              " 1385,\n",
              " 65,\n",
              " 458,\n",
              " 4468,\n",
              " 66,\n",
              " 3941,\n",
              " 4,\n",
              " 173,\n",
              " 36,\n",
              " 256,\n",
              " 5,\n",
              " 25,\n",
              " 100,\n",
              " 43,\n",
              " 838,\n",
              " 112,\n",
              " 50,\n",
              " 670,\n",
              " 2,\n",
              " 9,\n",
              " 35,\n",
              " 480,\n",
              " 284,\n",
              " 5,\n",
              " 150,\n",
              " 4,\n",
              " 172,\n",
              " 112,\n",
              " 167,\n",
              " 2,\n",
              " 336,\n",
              " 385,\n",
              " 39,\n",
              " 4,\n",
              " 172,\n",
              " 4536,\n",
              " 1111,\n",
              " 17,\n",
              " 546,\n",
              " 38,\n",
              " 13,\n",
              " 447,\n",
              " 4,\n",
              " 192,\n",
              " 50,\n",
              " 16,\n",
              " 6,\n",
              " 147,\n",
              " 2025,\n",
              " 19,\n",
              " 14,\n",
              " 22,\n",
              " 4,\n",
              " 1920,\n",
              " 4613,\n",
              " 469,\n",
              " 4,\n",
              " 22,\n",
              " 71,\n",
              " 87,\n",
              " 12,\n",
              " 16,\n",
              " 43,\n",
              " 530,\n",
              " 38,\n",
              " 76,\n",
              " 15,\n",
              " 13,\n",
              " 1247,\n",
              " 4,\n",
              " 22,\n",
              " 17,\n",
              " 515,\n",
              " 17,\n",
              " 12,\n",
              " 16,\n",
              " 626,\n",
              " 18,\n",
              " 2,\n",
              " 5,\n",
              " 62,\n",
              " 386,\n",
              " 12,\n",
              " 8,\n",
              " 316,\n",
              " 8,\n",
              " 106,\n",
              " 5,\n",
              " 4,\n",
              " 2223,\n",
              " 5244,\n",
              " 16,\n",
              " 480,\n",
              " 66,\n",
              " 3785,\n",
              " 33,\n",
              " 4,\n",
              " 130,\n",
              " 12,\n",
              " 16,\n",
              " 38,\n",
              " 619,\n",
              " 5,\n",
              " 25,\n",
              " 124,\n",
              " 51,\n",
              " 36,\n",
              " 135,\n",
              " 48,\n",
              " 25,\n",
              " 1415,\n",
              " 33,\n",
              " 6,\n",
              " 22,\n",
              " 12,\n",
              " 215,\n",
              " 28,\n",
              " 77,\n",
              " 52,\n",
              " 5,\n",
              " 14,\n",
              " 407,\n",
              " 16,\n",
              " 82,\n",
              " 2,\n",
              " 8,\n",
              " 4,\n",
              " 107,\n",
              " 117,\n",
              " 5952,\n",
              " 15,\n",
              " 256,\n",
              " 4,\n",
              " 2,\n",
              " 7,\n",
              " 3766,\n",
              " 5,\n",
              " 723,\n",
              " 36,\n",
              " 71,\n",
              " 43,\n",
              " 530,\n",
              " 476,\n",
              " 26,\n",
              " 400,\n",
              " 317,\n",
              " 46,\n",
              " 7,\n",
              " 4,\n",
              " 2,\n",
              " 1029,\n",
              " 13,\n",
              " 104,\n",
              " 88,\n",
              " 4,\n",
              " 381,\n",
              " 15,\n",
              " 297,\n",
              " 98,\n",
              " 32,\n",
              " 2071,\n",
              " 56,\n",
              " 26,\n",
              " 141,\n",
              " 6,\n",
              " 194,\n",
              " 7486,\n",
              " 18,\n",
              " 4,\n",
              " 226,\n",
              " 22,\n",
              " 21,\n",
              " 134,\n",
              " 476,\n",
              " 26,\n",
              " 480,\n",
              " 5,\n",
              " 144,\n",
              " 30,\n",
              " 5535,\n",
              " 18,\n",
              " 51,\n",
              " 36,\n",
              " 28,\n",
              " 224,\n",
              " 92,\n",
              " 25,\n",
              " 104,\n",
              " 4,\n",
              " 226,\n",
              " 65,\n",
              " 16,\n",
              " 38,\n",
              " 1334,\n",
              " 88,\n",
              " 12,\n",
              " 16,\n",
              " 283,\n",
              " 5,\n",
              " 16,\n",
              " 4472,\n",
              " 113,\n",
              " 103,\n",
              " 32,\n",
              " 15,\n",
              " 16,\n",
              " 5345,\n",
              " 19,\n",
              " 178,\n",
              " 32]"
            ]
          },
          "metadata": {},
          "execution_count": 4
        }
      ]
    },
    {
      "cell_type": "code",
      "source": [
        "train_labels[0]"
      ],
      "metadata": {
        "colab": {
          "base_uri": "https://localhost:8080/",
          "height": 0
        },
        "id": "KsZkK1Sk1IZW",
        "outputId": "979c6e5f-31cc-4a43-dc55-3501d17c92f9"
      },
      "execution_count": 5,
      "outputs": [
        {
          "output_type": "execute_result",
          "data": {
            "text/plain": [
              "1"
            ]
          },
          "metadata": {},
          "execution_count": 5
        }
      ]
    },
    {
      "cell_type": "markdown",
      "source": [
        "# Decoding reviews back to text"
      ],
      "metadata": {
        "id": "j0Df5gX-1PHy"
      }
    },
    {
      "cell_type": "code",
      "source": [
        "word_index = imdb.get_word_index()\n",
        "reverse_word_index = dict(\n",
        "[(value, key) for (key, value) in word_index.items()])\n",
        "decoded_review = \" \".join(\n",
        "[reverse_word_index.get(i - 3, \"?\") for i in train_data[0]])\n"
      ],
      "metadata": {
        "colab": {
          "base_uri": "https://localhost:8080/",
          "height": 0
        },
        "id": "7g4YEKqd1Mlu",
        "outputId": "261b2dcf-9a95-4efa-ba1b-d41924b4a648"
      },
      "execution_count": 6,
      "outputs": [
        {
          "output_type": "stream",
          "name": "stdout",
          "text": [
            "Downloading data from https://storage.googleapis.com/tensorflow/tf-keras-datasets/imdb_word_index.json\n",
            "1646592/1641221 [==============================] - 0s 0us/step\n",
            "1654784/1641221 [==============================] - 0s 0us/step\n"
          ]
        }
      ]
    },
    {
      "cell_type": "markdown",
      "source": [
        "#We'll use One-hot Encoding to turn our lists into vectors of 0s and 1s in order to prepare our data. Every one of our sequences would be multiplied by 10,000, with 1 at all indexes linking all integers in the sequence. This vector will contain the element 0 for any indices that are not in integer sequence.\n",
        "Each review will be represented by a 10,000-dimensional vector.\n",
        "# Vectorized the dataset by Creating an all-zero matrix of shape␣\n",
        "(len(sequences), dimension) and Sets specific indices of results[i] to 1s\n"
      ],
      "metadata": {
        "id": "p4uL4Rts1aT-"
      }
    },
    {
      "cell_type": "code",
      "source": [
        "import numpy as np\n",
        "def vectorize_sequences(sequences, dimension=10000):\n",
        "    results = np.zeros((len(sequences), dimension))                   \n",
        "    for i, sequence in enumerate(sequences):\n",
        "        for j in sequence:\n",
        "            results[i, j] = 1                                 \n",
        "    return results"
      ],
      "metadata": {
        "id": "VoQw1Fh41sgE"
      },
      "execution_count": 10,
      "outputs": []
    },
    {
      "cell_type": "markdown",
      "source": [
        "# Vectorizing Training and Test Dataset"
      ],
      "metadata": {
        "id": "Oze31Gnp35mp"
      }
    },
    {
      "cell_type": "code",
      "source": [
        "x_train = vectorize_sequences(train_data)\n",
        "x_test = vectorize_sequences(test_data)\n",
        "y_train = np.asarray(train_labels).astype(\"float32\")\n",
        "y_test = np.asarray(test_labels).astype(\"float32\")\n"
      ],
      "metadata": {
        "id": "o6N3lL_337MP"
      },
      "execution_count": 11,
      "outputs": []
    },
    {
      "cell_type": "markdown",
      "source": [
        "#BUILDING MODEL \n",
        "For our model, The relu activation function is used to zero negative values in two intermediate levels, each of which has 16 hidden layers. The output layer, which employs sigmoid activation, will be the third layer.\n"
      ],
      "metadata": {
        "id": "KSoyhRX74Eg3"
      }
    },
    {
      "cell_type": "code",
      "source": [
        "from tensorflow import keras\n",
        "model = keras.Sequential([\n",
        "layers.Dense(16, activation=\"relu\"),\n",
        "layers.Dense(16, activation=\"relu\"),\n",
        "layers.Dense(1, activation=\"sigmoid\")\n",
        "])\n"
      ],
      "metadata": {
        "id": "uwyVW-fd4GJR"
      },
      "execution_count": 12,
      "outputs": []
    },
    {
      "cell_type": "markdown",
      "source": [
        " #DB-The vectors in our input dataset had to be transformed to encoder labels (0s and 1s). Note that Dense layers with relu activation operates well.\n",
        " HIDDEN LAYERS- A hidden layer is positioned between the algorithm's input and output in neural networks, and it applies weights to the inputs and directs them through an activation function as the output. In a nutshell, the hidden layers conduct nonlinear changes on the network's inputs.\n"
      ],
      "metadata": {
        "id": "htmesPma4YzP"
      }
    },
    {
      "cell_type": "markdown",
      "source": [
        "# Model definition\n",
        "\n",
        "The following routines will be used in this case.\n",
        "\n",
        "The loss function binary crossentropy is used for binary classification.(We can also use MSE)\n",
        "rmsprop is the optimizer that was employed.\n",
        "Accuracy is the yardstick by which performance is measured.\n"
      ],
      "metadata": {
        "id": "dGhUlK4T4aId"
      }
    },
    {
      "cell_type": "markdown",
      "source": [
        "#Binary cross entropy- Each of the projected probabilities is compared to the actual class output, which can be either 0 or 1. The score is then calculated, penalizing the probabilities depending on their deviation from the predicted value. This refers to how close or far the value is to the actual value.\n",
        "The RMSprop optimizer limits oscillations in the vertical plane. As a result, we may boost our learning rate, allowing our algorithm to take greater horizontal steps and converge faster.\n"
      ],
      "metadata": {
        "id": "4zdnAmp44gPP"
      }
    },
    {
      "cell_type": "markdown",
      "source": [
        "# Model Compilation"
      ],
      "metadata": {
        "id": "-yeFJ2CB4rOd"
      }
    },
    {
      "cell_type": "code",
      "source": [
        "model.compile(optimizer=\"rmsprop\",\n",
        "loss=\"binary_crossentropy\",\n",
        "metrics=[\"accuracy\"])\n"
      ],
      "metadata": {
        "id": "0KsvqSES4u19"
      },
      "execution_count": 13,
      "outputs": []
    },
    {
      "cell_type": "markdown",
      "source": [
        "# Setting aside a validation set\n",
        "As the model improves, we'll set aside some of our training data for validation of the model's correctness. Companies can use a validation set to track our model's development as it progresses through epochs during training on previously unseen data.\n"
      ],
      "metadata": {
        "id": "tQ7mW5fU49JJ"
      }
    },
    {
      "cell_type": "code",
      "source": [
        "x_val = x_train[:10000]\n",
        "partial_x_train = x_train[10000:]\n",
        "y_val = y_train[:10000]\n",
        "partial_y_train = y_train[10000:]\n"
      ],
      "metadata": {
        "id": "c2qfv7Dm5BXF"
      },
      "execution_count": 14,
      "outputs": []
    },
    {
      "cell_type": "markdown",
      "source": [
        "# Model Training\n",
        "We are training the model with batch size 512 and epochs=20\n"
      ],
      "metadata": {
        "id": "4kW3OwIe5KZM"
      }
    },
    {
      "cell_type": "code",
      "source": [
        "history = model.fit(partial_x_train,\n",
        "partial_y_train,\n",
        "epochs=20,\n",
        "batch_size=512,\n",
        "validation_data=(x_val, y_val))\n"
      ],
      "metadata": {
        "colab": {
          "base_uri": "https://localhost:8080/",
          "height": 0
        },
        "id": "3M5-818P5L1G",
        "outputId": "726322d9-22dd-4015-ddae-b933bd151dd0"
      },
      "execution_count": 15,
      "outputs": [
        {
          "output_type": "stream",
          "name": "stdout",
          "text": [
            "Epoch 1/20\n",
            "30/30 [==============================] - 2s 46ms/step - loss: 0.4877 - accuracy: 0.7910 - val_loss: 0.3632 - val_accuracy: 0.8732\n",
            "Epoch 2/20\n",
            "30/30 [==============================] - 1s 33ms/step - loss: 0.2841 - accuracy: 0.9082 - val_loss: 0.3201 - val_accuracy: 0.8709\n",
            "Epoch 3/20\n",
            "30/30 [==============================] - 1s 33ms/step - loss: 0.2143 - accuracy: 0.9277 - val_loss: 0.2964 - val_accuracy: 0.8829\n",
            "Epoch 4/20\n",
            "30/30 [==============================] - 1s 33ms/step - loss: 0.1691 - accuracy: 0.9440 - val_loss: 0.2752 - val_accuracy: 0.8895\n",
            "Epoch 5/20\n",
            "30/30 [==============================] - 1s 34ms/step - loss: 0.1365 - accuracy: 0.9559 - val_loss: 0.2840 - val_accuracy: 0.8879\n",
            "Epoch 6/20\n",
            "30/30 [==============================] - 1s 33ms/step - loss: 0.1112 - accuracy: 0.9657 - val_loss: 0.3112 - val_accuracy: 0.8829\n",
            "Epoch 7/20\n",
            "30/30 [==============================] - 1s 33ms/step - loss: 0.0949 - accuracy: 0.9706 - val_loss: 0.3204 - val_accuracy: 0.8812\n",
            "Epoch 8/20\n",
            "30/30 [==============================] - 1s 33ms/step - loss: 0.0748 - accuracy: 0.9796 - val_loss: 0.3567 - val_accuracy: 0.8767\n",
            "Epoch 9/20\n",
            "30/30 [==============================] - 1s 32ms/step - loss: 0.0608 - accuracy: 0.9844 - val_loss: 0.4130 - val_accuracy: 0.8704\n",
            "Epoch 10/20\n",
            "30/30 [==============================] - 1s 33ms/step - loss: 0.0499 - accuracy: 0.9882 - val_loss: 0.3998 - val_accuracy: 0.8738\n",
            "Epoch 11/20\n",
            "30/30 [==============================] - 1s 33ms/step - loss: 0.0410 - accuracy: 0.9901 - val_loss: 0.4268 - val_accuracy: 0.8736\n",
            "Epoch 12/20\n",
            "30/30 [==============================] - 1s 34ms/step - loss: 0.0335 - accuracy: 0.9930 - val_loss: 0.4546 - val_accuracy: 0.8746\n",
            "Epoch 13/20\n",
            "30/30 [==============================] - 1s 33ms/step - loss: 0.0265 - accuracy: 0.9945 - val_loss: 0.4842 - val_accuracy: 0.8720\n",
            "Epoch 14/20\n",
            "30/30 [==============================] - 1s 33ms/step - loss: 0.0175 - accuracy: 0.9981 - val_loss: 0.5275 - val_accuracy: 0.8728\n",
            "Epoch 15/20\n",
            "30/30 [==============================] - 1s 34ms/step - loss: 0.0173 - accuracy: 0.9969 - val_loss: 0.5490 - val_accuracy: 0.8698\n",
            "Epoch 16/20\n",
            "30/30 [==============================] - 1s 33ms/step - loss: 0.0125 - accuracy: 0.9987 - val_loss: 0.5891 - val_accuracy: 0.8681\n",
            "Epoch 17/20\n",
            "30/30 [==============================] - 1s 33ms/step - loss: 0.0086 - accuracy: 0.9995 - val_loss: 0.6422 - val_accuracy: 0.8676\n",
            "Epoch 18/20\n",
            "30/30 [==============================] - 1s 34ms/step - loss: 0.0096 - accuracy: 0.9985 - val_loss: 0.6565 - val_accuracy: 0.8668\n",
            "Epoch 19/20\n",
            "30/30 [==============================] - 1s 33ms/step - loss: 0.0041 - accuracy: 0.9999 - val_loss: 0.6943 - val_accuracy: 0.8656\n",
            "Epoch 20/20\n",
            "30/30 [==============================] - 1s 32ms/step - loss: 0.0070 - accuracy: 0.9987 - val_loss: 0.7308 - val_accuracy: 0.8655\n"
          ]
        }
      ]
    },
    {
      "cell_type": "markdown",
      "source": [
        "#Plotting of Training and Validation Loss"
      ],
      "metadata": {
        "id": "8Ahe6XWB5Z0U"
      }
    },
    {
      "cell_type": "code",
      "source": [
        "history_dict = history.history\n",
        "loss_values = history_dict[\"loss\"]\n",
        "3\n",
        "val_loss_values = history_dict[\"val_loss\"]\n",
        "epochs = range(1, len(loss_values) + 1)\n",
        "plt.plot(epochs, loss_values, \"bo\", label=\"Training loss\")\n",
        "plt.plot(epochs, val_loss_values, \"b\", label=\"Validation loss\")\n",
        "plt.title(\"Training and validation loss\")\n",
        "plt.xlabel(\"Epochs\")\n",
        "plt.ylabel(\"Loss\")\n",
        "plt.legend()\n",
        "plt.show()\n"
      ],
      "metadata": {
        "colab": {
          "base_uri": "https://localhost:8080/",
          "height": 295
        },
        "id": "l5n_Dw4G5d5j",
        "outputId": "2d5c76eb-2781-4013-d79a-bf8d80ece881"
      },
      "execution_count": 16,
      "outputs": [
        {
          "output_type": "display_data",
          "data": {
            "image/png": "[encoded data removed]",
            "text/plain": [
              "<Figure size 432x288 with 1 Axes>"
            ]
          },
          "metadata": {
            "needs_background": "light"
          }
        }
      ]
    },
    {
      "cell_type": "markdown",
      "source": [
        "Validation loss started increasing from 3 epocs"
      ],
      "metadata": {
        "id": "l5jPHUxE5mCY"
      }
    },
    {
      "cell_type": "markdown",
      "source": [
        "#Plotting Training and Validation accuracy"
      ],
      "metadata": {
        "id": "VqXNsezd5r9V"
      }
    },
    {
      "cell_type": "code",
      "source": [
        "plt.clf()\n",
        "acc = history_dict[\"accuracy\"]\n",
        "val_acc = history_dict[\"val_accuracy\"]\n",
        "plt.plot(epochs, acc, \"bo\", label=\"Training acc\")\n",
        "plt.plot(epochs, val_acc, \"b\", label=\"Validation acc\")\n",
        "plt.title(\"Training and validation accuracy\")\n",
        "plt.xlabel(\"Epochs\")\n",
        "plt.ylabel(\"Accuracy\")\n",
        "plt.legend()\n",
        "plt.show()\n"
      ],
      "metadata": {
        "colab": {
          "base_uri": "https://localhost:8080/",
          "height": 295
        },
        "id": "OfZK4GZw5vG1",
        "outputId": "f4ffb6a0-fe67-4166-c10e-e8aa519bb3d9"
      },
      "execution_count": 17,
      "outputs": [
        {
          "output_type": "display_data",
          "data": {
            "image/png": "[encoded data removed]",
            "text/plain": [
              "<Figure size 432x288 with 1 Axes>"
            ]
          },
          "metadata": {
            "needs_background": "light"
          }
        }
      ]
    },
    {
      "cell_type": "markdown",
      "source": [
        "Summary for validation loss:\n",
        "16 Nodes 2 layers(relu): Binary Cross Entropy\n",
        "When comparing the Validation loss in Binary Cross Entropy to the Training and Validation loss, I saw that the Validation loss in Binary Cross Entropy has dropped until a certain point and then dramatically increased.\n",
        "\n",
        "When comparing the Validation accuracy in Binary Cross Entropy to the Training and Validation accuracy, I saw that the validation accuracy decrease and training accuracy increase.\n",
        "\n",
        "Conclusion- It implies that while the model improves at classifying training data, it consistently produces worse predictions when it encounters new and unknown data, indicating that it is overfitting. After the fifth epoch, the model begins to resemble the training data too closely.\n"
      ],
      "metadata": {
        "id": "HAttCqpZ516M"
      }
    },
    {
      "cell_type": "markdown",
      "source": [
        "# Retraining Model from begining"
      ],
      "metadata": {
        "id": "OT_S12R253Tg"
      }
    },
    {
      "cell_type": "code",
      "source": [
        "model = keras.Sequential([\n",
        "layers.Dense(16, activation=\"relu\"),\n",
        "layers.Dense(16, activation=\"relu\"),\n",
        "layers.Dense(1, activation=\"sigmoid\")\n",
        "])\n",
        "model.compile(optimizer=\"rmsprop\",\n",
        "loss=\"binary_crossentropy\",\n",
        "metrics=[\"accuracy\"])\n",
        "model.fit(x_train, y_train, epochs=4, batch_size=512)\n",
        "results = model.evaluate(x_test, y_test)\n"
      ],
      "metadata": {
        "colab": {
          "base_uri": "https://localhost:8080/",
          "height": 0
        },
        "id": "FW5Ck-V456N1",
        "outputId": "338d06c2-1b40-4a08-8073-00b4aa2f1e40"
      },
      "execution_count": 18,
      "outputs": [
        {
          "output_type": "stream",
          "name": "stdout",
          "text": [
            "Epoch 1/4\n",
            "49/49 [==============================] - 2s 26ms/step - loss: 0.4468 - accuracy: 0.8151\n",
            "Epoch 2/4\n",
            "49/49 [==============================] - 1s 26ms/step - loss: 0.2546 - accuracy: 0.9094\n",
            "Epoch 3/4\n",
            "49/49 [==============================] - 1s 27ms/step - loss: 0.1942 - accuracy: 0.9305\n",
            "Epoch 4/4\n",
            "49/49 [==============================] - 1s 26ms/step - loss: 0.1627 - accuracy: 0.9413\n",
            "782/782 [==============================] - 3s 3ms/step - loss: 0.3160 - accuracy: 0.8759\n"
          ]
        }
      ]
    },
    {
      "cell_type": "markdown",
      "source": [
        "Here we have used epocs=4 for training the data."
      ],
      "metadata": {
        "id": "AfUXRBjJ6F2y"
      }
    },
    {
      "cell_type": "code",
      "source": [
        "results"
      ],
      "metadata": {
        "colab": {
          "base_uri": "https://localhost:8080/",
          "height": 0
        },
        "id": "LqkMXcSm6HCe",
        "outputId": "60bb62b3-b933-4353-f83d-f91b23cb5431"
      },
      "execution_count": 19,
      "outputs": [
        {
          "output_type": "execute_result",
          "data": {
            "text/plain": [
              "[0.31600797176361084, 0.8759199976921082]"
            ]
          },
          "metadata": {},
          "execution_count": 19
        }
      ]
    },
    {
      "cell_type": "markdown",
      "source": [
        "# ASSIGNMENT\n",
        "You used two hidden layers. Try using one or three hidden layers, and see how doing so affects validation and test accuracy.\n"
      ],
      "metadata": {
        "id": "062T9pam6K9b"
      }
    },
    {
      "cell_type": "markdown",
      "source": [
        "#model_1 is build with 3 layers of relu activation function and model_2 with 1 layers of relu activation function"
      ],
      "metadata": {
        "id": "O5J2Z7Vz6RUQ"
      }
    },
    {
      "cell_type": "code",
      "source": [
        "model_1 = keras.Sequential([\n",
        "layers.Dense(16, activation=\"relu\"),\n",
        "layers.Dense(16, activation=\"relu\"),\n",
        "layers.Dense(16, activation=\"relu\"),\n",
        "layers.Dense(1, activation=\"sigmoid\")\n",
        "])\n",
        "model_2 = keras.Sequential([\n",
        "layers.Dense(16, activation=\"relu\"),\n",
        "layers.Dense(1, activation=\"sigmoid\")\n",
        "])\n"
      ],
      "metadata": {
        "id": "6liyYr3d6YBZ"
      },
      "execution_count": 20,
      "outputs": []
    },
    {
      "cell_type": "markdown",
      "source": [
        "#Using optimizer rmsprop and loss function binary crossentrophy for calculating both the model [model_1(3layers), model_2(1layer)]"
      ],
      "metadata": {
        "id": "GAMwnSZ46gzA"
      }
    },
    {
      "cell_type": "code",
      "source": [
        "model_1.compile(optimizer=\"rmsprop\",\n",
        "loss=\"binary_crossentropy\",\n",
        "metrics=[\"accuracy\"])\n",
        "model_2.compile(optimizer=\"rmsprop\",\n",
        "loss=\"binary_crossentropy\",\n",
        "metrics=[\"accuracy\"])\n"
      ],
      "metadata": {
        "id": "cSZdZEM06poW"
      },
      "execution_count": 22,
      "outputs": []
    },
    {
      "cell_type": "markdown",
      "source": [
        "# Model Training is done with epocs= 20 "
      ],
      "metadata": {
        "id": "Uop9Q4Dg65K5"
      }
    },
    {
      "cell_type": "code",
      "source": [
        "history_1 = model_1.fit(partial_x_train,\n",
        "partial_y_train,\n",
        "epochs=20,\n",
        "batch_size=512,\n",
        "validation_data=(x_val, y_val))\n",
        "history_2 = model_2.fit(partial_x_train,\n",
        "partial_y_train,\n",
        "epochs=20,\n",
        "batch_size=512,\n",
        "validation_data=(x_val, y_val))\n",
        "\n",
        "model_1.summary()\n",
        "model_2.summary()\n"
      ],
      "metadata": {
        "colab": {
          "base_uri": "https://localhost:8080/",
          "height": 0
        },
        "id": "8lO6kW_T68M4",
        "outputId": "4ae2d04a-3acd-4f0b-8671-d83d87e265f9"
      },
      "execution_count": 23,
      "outputs": [
        {
          "output_type": "stream",
          "name": "stdout",
          "text": [
            "Epoch 1/20\n",
            "30/30 [==============================] - 2s 47ms/step - loss: 0.5972 - accuracy: 0.6547 - val_loss: 0.4950 - val_accuracy: 0.8110\n",
            "Epoch 2/20\n",
            "30/30 [==============================] - 1s 36ms/step - loss: 0.3882 - accuracy: 0.8854 - val_loss: 0.3556 - val_accuracy: 0.8699\n",
            "Epoch 3/20\n",
            "30/30 [==============================] - 1s 35ms/step - loss: 0.2458 - accuracy: 0.9238 - val_loss: 0.2943 - val_accuracy: 0.8887\n",
            "Epoch 4/20\n",
            "30/30 [==============================] - 1s 35ms/step - loss: 0.1789 - accuracy: 0.9408 - val_loss: 0.2817 - val_accuracy: 0.8899\n",
            "Epoch 5/20\n",
            "30/30 [==============================] - 1s 35ms/step - loss: 0.1446 - accuracy: 0.9521 - val_loss: 0.2893 - val_accuracy: 0.8856\n",
            "Epoch 6/20\n",
            "30/30 [==============================] - 1s 35ms/step - loss: 0.1085 - accuracy: 0.9668 - val_loss: 0.3083 - val_accuracy: 0.8852\n",
            "Epoch 7/20\n",
            "30/30 [==============================] - 1s 36ms/step - loss: 0.0844 - accuracy: 0.9762 - val_loss: 0.4807 - val_accuracy: 0.8411\n",
            "Epoch 8/20\n",
            "30/30 [==============================] - 1s 39ms/step - loss: 0.0687 - accuracy: 0.9801 - val_loss: 0.4216 - val_accuracy: 0.8697\n",
            "Epoch 9/20\n",
            "30/30 [==============================] - 1s 36ms/step - loss: 0.0563 - accuracy: 0.9841 - val_loss: 0.4253 - val_accuracy: 0.8702\n",
            "Epoch 10/20\n",
            "30/30 [==============================] - 1s 36ms/step - loss: 0.0419 - accuracy: 0.9893 - val_loss: 0.4976 - val_accuracy: 0.8624\n",
            "Epoch 11/20\n",
            "30/30 [==============================] - 1s 36ms/step - loss: 0.0394 - accuracy: 0.9886 - val_loss: 0.4477 - val_accuracy: 0.8757\n",
            "Epoch 12/20\n",
            "30/30 [==============================] - 1s 35ms/step - loss: 0.0285 - accuracy: 0.9924 - val_loss: 0.4810 - val_accuracy: 0.8757\n",
            "Epoch 13/20\n",
            "30/30 [==============================] - 1s 35ms/step - loss: 0.0128 - accuracy: 0.9984 - val_loss: 0.5250 - val_accuracy: 0.8727\n",
            "Epoch 14/20\n",
            "30/30 [==============================] - 1s 36ms/step - loss: 0.0198 - accuracy: 0.9941 - val_loss: 0.5601 - val_accuracy: 0.8716\n",
            "Epoch 15/20\n",
            "30/30 [==============================] - 1s 36ms/step - loss: 0.0188 - accuracy: 0.9947 - val_loss: 0.5768 - val_accuracy: 0.8722\n",
            "Epoch 16/20\n",
            "30/30 [==============================] - 1s 35ms/step - loss: 0.0046 - accuracy: 0.9997 - val_loss: 0.6202 - val_accuracy: 0.8705\n",
            "Epoch 17/20\n",
            "30/30 [==============================] - 1s 35ms/step - loss: 0.0165 - accuracy: 0.9945 - val_loss: 0.6604 - val_accuracy: 0.8701\n",
            "Epoch 18/20\n",
            "30/30 [==============================] - 1s 35ms/step - loss: 0.0024 - accuracy: 0.9999 - val_loss: 0.6874 - val_accuracy: 0.8698\n",
            "Epoch 19/20\n",
            "30/30 [==============================] - 1s 35ms/step - loss: 0.0019 - accuracy: 0.9999 - val_loss: 0.7806 - val_accuracy: 0.8644\n",
            "Epoch 20/20\n",
            "30/30 [==============================] - 1s 35ms/step - loss: 0.0103 - accuracy: 0.9973 - val_loss: 0.7702 - val_accuracy: 0.8696\n",
            "Epoch 1/20\n",
            "30/30 [==============================] - 2s 43ms/step - loss: 0.4905 - accuracy: 0.8015 - val_loss: 0.4000 - val_accuracy: 0.8480\n",
            "Epoch 2/20\n",
            "30/30 [==============================] - 1s 35ms/step - loss: 0.3080 - accuracy: 0.9041 - val_loss: 0.3141 - val_accuracy: 0.8867\n",
            "Epoch 3/20\n",
            "30/30 [==============================] - 1s 35ms/step - loss: 0.2377 - accuracy: 0.9259 - val_loss: 0.2998 - val_accuracy: 0.8828\n",
            "Epoch 4/20\n",
            "30/30 [==============================] - 1s 35ms/step - loss: 0.1954 - accuracy: 0.9388 - val_loss: 0.2761 - val_accuracy: 0.8904\n",
            "Epoch 5/20\n",
            "30/30 [==============================] - 1s 35ms/step - loss: 0.1659 - accuracy: 0.9494 - val_loss: 0.2800 - val_accuracy: 0.8882\n",
            "Epoch 6/20\n",
            "30/30 [==============================] - 1s 34ms/step - loss: 0.1426 - accuracy: 0.9565 - val_loss: 0.2778 - val_accuracy: 0.8889\n",
            "Epoch 7/20\n",
            "30/30 [==============================] - 1s 34ms/step - loss: 0.1243 - accuracy: 0.9640 - val_loss: 0.2846 - val_accuracy: 0.8860\n",
            "Epoch 8/20\n",
            "30/30 [==============================] - 1s 40ms/step - loss: 0.1100 - accuracy: 0.9687 - val_loss: 0.2916 - val_accuracy: 0.8848\n",
            "Epoch 9/20\n",
            "30/30 [==============================] - 2s 50ms/step - loss: 0.0955 - accuracy: 0.9753 - val_loss: 0.3168 - val_accuracy: 0.8821\n",
            "Epoch 10/20\n",
            "30/30 [==============================] - 1s 35ms/step - loss: 0.0850 - accuracy: 0.9786 - val_loss: 0.3137 - val_accuracy: 0.8809\n",
            "Epoch 11/20\n",
            "30/30 [==============================] - 1s 35ms/step - loss: 0.0744 - accuracy: 0.9825 - val_loss: 0.3284 - val_accuracy: 0.8795\n",
            "Epoch 12/20\n",
            "30/30 [==============================] - 1s 35ms/step - loss: 0.0662 - accuracy: 0.9859 - val_loss: 0.3445 - val_accuracy: 0.8764\n",
            "Epoch 13/20\n",
            "30/30 [==============================] - 1s 35ms/step - loss: 0.0585 - accuracy: 0.9874 - val_loss: 0.3587 - val_accuracy: 0.8802\n",
            "Epoch 14/20\n",
            "30/30 [==============================] - 1s 35ms/step - loss: 0.0521 - accuracy: 0.9899 - val_loss: 0.3720 - val_accuracy: 0.8751\n",
            "Epoch 15/20\n",
            "30/30 [==============================] - 1s 35ms/step - loss: 0.0453 - accuracy: 0.9912 - val_loss: 0.3945 - val_accuracy: 0.8707\n",
            "Epoch 16/20\n",
            "30/30 [==============================] - 1s 35ms/step - loss: 0.0397 - accuracy: 0.9936 - val_loss: 0.4020 - val_accuracy: 0.8738\n",
            "Epoch 17/20\n",
            "30/30 [==============================] - 1s 34ms/step - loss: 0.0349 - accuracy: 0.9942 - val_loss: 0.4397 - val_accuracy: 0.8659\n",
            "Epoch 18/20\n",
            "30/30 [==============================] - 1s 37ms/step - loss: 0.0308 - accuracy: 0.9952 - val_loss: 0.4402 - val_accuracy: 0.8729\n",
            "Epoch 19/20\n",
            "30/30 [==============================] - 1s 35ms/step - loss: 0.0262 - accuracy: 0.9973 - val_loss: 0.4629 - val_accuracy: 0.8721\n",
            "Epoch 20/20\n",
            "30/30 [==============================] - 1s 35ms/step - loss: 0.0236 - accuracy: 0.9973 - val_loss: 0.4878 - val_accuracy: 0.8664\n",
            "Model: \"sequential_2\"\n",
            "_________________________________________________________________\n",
            " Layer (type)                Output Shape              Param #   \n",
            "=================================================================\n",
            " dense_6 (Dense)             (None, 16)                160016    \n",
            "                                                                 \n",
            " dense_7 (Dense)             (None, 16)                272       \n",
            "                                                                 \n",
            " dense_8 (Dense)             (None, 16)                272       \n",
            "                                                                 \n",
            " dense_9 (Dense)             (None, 1)                 17        \n",
            "                                                                 \n",
            "=================================================================\n",
            "Total params: 160,577\n",
            "Trainable params: 160,577\n",
            "Non-trainable params: 0\n",
            "_________________________________________________________________\n",
            "Model: \"sequential_3\"\n",
            "_________________________________________________________________\n",
            " Layer (type)                Output Shape              Param #   \n",
            "=================================================================\n",
            " dense_10 (Dense)            (None, 16)                160016    \n",
            "                                                                 \n",
            " dense_11 (Dense)            (None, 1)                 17        \n",
            "                                                                 \n",
            "=================================================================\n",
            "Total params: 160,033\n",
            "Trainable params: 160,033\n",
            "Non-trainable params: 0\n",
            "_________________________________________________________________\n"
          ]
        }
      ]
    },
    {
      "cell_type": "markdown",
      "source": [
        "# Plotting the training and validation loss"
      ],
      "metadata": {
        "id": "dnqz2jSk7RXi"
      }
    },
    {
      "cell_type": "code",
      "source": [
        "history_dict_1 = history_1.history\n",
        "history_dict_2 = history_2.history\n",
        "plt.plot(history_1.history['val_loss'], 'r', history_2.history['val_loss'], 'b')\n",
        "plt.xlabel('Epochs')\n",
        "plt.ylabel('Validation score')\n",
        "plt.legend()\n"
      ],
      "metadata": {
        "colab": {
          "base_uri": "https://localhost:8080/",
          "height": 316
        },
        "id": "55YkkBNf7SaK",
        "outputId": "2cc640f2-666e-43b3-fd2e-c035933dd98e"
      },
      "execution_count": 24,
      "outputs": [
        {
          "output_type": "stream",
          "name": "stderr",
          "text": [
            "No handles with labels found to put in legend.\n"
          ]
        },
        {
          "output_type": "execute_result",
          "data": {
            "text/plain": [
              "<matplotlib.legend.Legend at 0x7f1a2682f290>"
            ]
          },
          "metadata": {},
          "execution_count": 24
        },
        {
          "output_type": "display_data",
          "data": {
            "image/png": "[encoded data removed]",
            "text/plain": [
              "<Figure size 432x288 with 1 Axes>"
            ]
          },
          "metadata": {
            "needs_background": "light"
          }
        }
      ]
    },
    {
      "cell_type": "markdown",
      "source": [
        "here the validation loss is at 5 epochs"
      ],
      "metadata": {
        "id": "OCaWu4Qc7Wkc"
      }
    },
    {
      "cell_type": "markdown",
      "source": [
        "# Plotting Training and Validation accuracy"
      ],
      "metadata": {
        "id": "29TeUXhx7axl"
      }
    },
    {
      "cell_type": "code",
      "source": [
        "plt.clf()\n",
        "acc = history_dict_1[\"accuracy\"]\n",
        "val_acc = history_dict_1[\"val_accuracy\"]\n",
        "plt.plot(epochs, acc, \"bo\", label=\"Training acc\")\n",
        "10\n",
        "plt.plot(epochs, val_acc, \"b\", label=\"Validation acc\")\n",
        "plt.title(\"Training and validation accuracy\")\n",
        "plt.xlabel(\"Epochs\")\n",
        "plt.ylabel(\"Accuracy\")\n",
        "plt.legend()\n",
        "plt.show()\n"
      ],
      "metadata": {
        "colab": {
          "base_uri": "https://localhost:8080/",
          "height": 295
        },
        "id": "YTfhctc77hWm",
        "outputId": "e1ff72be-1f04-4be8-d683-357603153312"
      },
      "execution_count": 25,
      "outputs": [
        {
          "output_type": "display_data",
          "data": {
            "image/png": "[encoded data removed]",
            "text/plain": [
              "<Figure size 432x288 with 1 Axes>"
            ]
          },
          "metadata": {
            "needs_background": "light"
          }
        }
      ]
    },
    {
      "cell_type": "markdown",
      "source": [
        "here the validation accuracy is at 5 Epochs"
      ],
      "metadata": {
        "id": "P7_8db3C7lWn"
      }
    },
    {
      "cell_type": "markdown",
      "source": [
        "# plot_loss\n",
        "# (history_dict_1.history['loss'], history_dict_1.history['val_loss'])\n"
      ],
      "metadata": {
        "id": "oGtvCWls7oW1"
      }
    },
    {
      "cell_type": "code",
      "source": [
        "plt.clf()\n",
        "acc = history_dict_2[\"accuracy\"]\n",
        "val_acc = history_dict_2[\"val_accuracy\"]\n",
        "plt.plot(epochs, acc, \"bo\", label=\"Training acc\")\n",
        "plt.plot(epochs, val_acc, \"b\", label=\"Validation acc\")\n",
        "plt.title(\"Training and validation accuracy\")\n",
        "plt.xlabel(\"Epochs\")\n",
        "plt.ylabel(\"Accuracy\")\n",
        "plt.legend()\n",
        "plt.show()\n"
      ],
      "metadata": {
        "colab": {
          "base_uri": "https://localhost:8080/",
          "height": 295
        },
        "id": "s7iajgf37r4q",
        "outputId": "2d421d64-cfc5-427e-bff4-1aab061dbc74"
      },
      "execution_count": 26,
      "outputs": [
        {
          "output_type": "display_data",
          "data": {
            "image/png": "[encoded data removed]",
            "text/plain": [
              "<Figure size 432x288 with 1 Axes>"
            ]
          },
          "metadata": {
            "needs_background": "light"
          }
        }
      ]
    },
    {
      "cell_type": "markdown",
      "source": [
        "Here, the maximum vallidation accuracy is observed at 5th epoch."
      ],
      "metadata": {
        "id": "smd6e4C17v-O"
      }
    },
    {
      "cell_type": "markdown",
      "source": [
        "# 2. Try using layers with more hidden units or fewer hidden units: 32 units, 64␣\n",
        ",→units, and so on.\n"
      ],
      "metadata": {
        "id": "ZoLjgG0J7zBQ"
      }
    },
    {
      "cell_type": "code",
      "source": [
        "model_3 = keras.Sequential([\n",
        "layers.Dense(32, activation=\"relu\"),\n",
        "layers.Dense(64, activation=\"relu\"),\n",
        "layers.Dense(1, activation=\"sigmoid\")\n",
        "])\n"
      ],
      "metadata": {
        "id": "ybiK7Q8k72y7"
      },
      "execution_count": 27,
      "outputs": []
    },
    {
      "cell_type": "markdown",
      "source": [
        "#We are using rmsprop and binary cross-entropy "
      ],
      "metadata": {
        "id": "jP0kEDWf77RY"
      }
    },
    {
      "cell_type": "code",
      "source": [
        "model_3.compile(optimizer=\"rmsprop\",\n",
        "loss=\"binary_crossentropy\",\n",
        "metrics=[\"accuracy\"])\n"
      ],
      "metadata": {
        "id": "BCl6nXsW7_Cw"
      },
      "execution_count": 28,
      "outputs": []
    },
    {
      "cell_type": "markdown",
      "source": [
        "# Here we have taken epochs= 20, and batch size=512 to fit the model"
      ],
      "metadata": {
        "id": "bmdcDiKR8Chs"
      }
    },
    {
      "cell_type": "code",
      "source": [
        "history_3 = model_3.fit(partial_x_train,\n",
        "partial_y_train,\n",
        "epochs=20,\n",
        "batch_size=512,\n",
        "validation_data=(x_val, y_val))\n"
      ],
      "metadata": {
        "colab": {
          "base_uri": "https://localhost:8080/",
          "height": 0
        },
        "id": "NAm8mMCc8Fl_",
        "outputId": "735837ac-0a6b-4b35-fa4f-7e3bd6149458"
      },
      "execution_count": 29,
      "outputs": [
        {
          "output_type": "stream",
          "name": "stdout",
          "text": [
            "Epoch 1/20\n",
            "30/30 [==============================] - 2s 54ms/step - loss: 0.5002 - accuracy: 0.7712 - val_loss: 0.3547 - val_accuracy: 0.8682\n",
            "Epoch 2/20\n",
            "30/30 [==============================] - 1s 42ms/step - loss: 0.2675 - accuracy: 0.9085 - val_loss: 0.2855 - val_accuracy: 0.8881\n",
            "Epoch 3/20\n",
            "30/30 [==============================] - 1s 44ms/step - loss: 0.1993 - accuracy: 0.9291 - val_loss: 0.2861 - val_accuracy: 0.8858\n",
            "Epoch 4/20\n",
            "30/30 [==============================] - 1s 43ms/step - loss: 0.1551 - accuracy: 0.9439 - val_loss: 0.2860 - val_accuracy: 0.8853\n",
            "Epoch 5/20\n",
            "30/30 [==============================] - 1s 42ms/step - loss: 0.1175 - accuracy: 0.9621 - val_loss: 0.3056 - val_accuracy: 0.8848\n",
            "Epoch 6/20\n",
            "30/30 [==============================] - 1s 42ms/step - loss: 0.0867 - accuracy: 0.9737 - val_loss: 0.4229 - val_accuracy: 0.8555\n",
            "Epoch 7/20\n",
            "30/30 [==============================] - 1s 43ms/step - loss: 0.0730 - accuracy: 0.9765 - val_loss: 0.3621 - val_accuracy: 0.8781\n",
            "Epoch 8/20\n",
            "30/30 [==============================] - 1s 41ms/step - loss: 0.0472 - accuracy: 0.9874 - val_loss: 0.3994 - val_accuracy: 0.8798\n",
            "Epoch 9/20\n",
            "30/30 [==============================] - 1s 42ms/step - loss: 0.0367 - accuracy: 0.9898 - val_loss: 0.4397 - val_accuracy: 0.8770\n",
            "Epoch 10/20\n",
            "30/30 [==============================] - 1s 42ms/step - loss: 0.0296 - accuracy: 0.9926 - val_loss: 0.4689 - val_accuracy: 0.8757\n",
            "Epoch 11/20\n",
            "30/30 [==============================] - 1s 43ms/step - loss: 0.0258 - accuracy: 0.9926 - val_loss: 0.5094 - val_accuracy: 0.8760\n",
            "Epoch 12/20\n",
            "30/30 [==============================] - 1s 43ms/step - loss: 0.0088 - accuracy: 0.9993 - val_loss: 0.6674 - val_accuracy: 0.8629\n",
            "Epoch 13/20\n",
            "30/30 [==============================] - 1s 42ms/step - loss: 0.0124 - accuracy: 0.9970 - val_loss: 0.5891 - val_accuracy: 0.8706\n",
            "Epoch 14/20\n",
            "30/30 [==============================] - 1s 42ms/step - loss: 0.0234 - accuracy: 0.9928 - val_loss: 0.6205 - val_accuracy: 0.8732\n",
            "Epoch 15/20\n",
            "30/30 [==============================] - 1s 42ms/step - loss: 0.0026 - accuracy: 0.9999 - val_loss: 0.6523 - val_accuracy: 0.8718\n",
            "Epoch 16/20\n",
            "30/30 [==============================] - 1s 42ms/step - loss: 0.0024 - accuracy: 0.9997 - val_loss: 0.8528 - val_accuracy: 0.8572\n",
            "Epoch 17/20\n",
            "30/30 [==============================] - 1s 42ms/step - loss: 0.0017 - accuracy: 1.0000 - val_loss: 0.7548 - val_accuracy: 0.8663\n",
            "Epoch 18/20\n",
            "30/30 [==============================] - 1s 41ms/step - loss: 0.0197 - accuracy: 0.9947 - val_loss: 0.8020 - val_accuracy: 0.8689\n",
            "Epoch 19/20\n",
            "30/30 [==============================] - 1s 43ms/step - loss: 4.8248e-04 - accuracy: 1.0000 - val_loss: 0.8212 - val_accuracy: 0.8691\n",
            "Epoch 20/20\n",
            "30/30 [==============================] - 1s 42ms/step - loss: 3.5065e-04 - accuracy: 1.0000 - val_loss: 0.8526 - val_accuracy: 0.8676\n"
          ]
        }
      ]
    },
    {
      "cell_type": "code",
      "source": [
        "model_3.summary()"
      ],
      "metadata": {
        "colab": {
          "base_uri": "https://localhost:8080/",
          "height": 0
        },
        "id": "4izfapfC8SYw",
        "outputId": "873eb64f-7c88-49db-c26f-73ece2a8f3f5"
      },
      "execution_count": 30,
      "outputs": [
        {
          "output_type": "stream",
          "name": "stdout",
          "text": [
            "Model: \"sequential_4\"\n",
            "_________________________________________________________________\n",
            " Layer (type)                Output Shape              Param #   \n",
            "=================================================================\n",
            " dense_12 (Dense)            (None, 32)                320032    \n",
            "                                                                 \n",
            " dense_13 (Dense)            (None, 64)                2112      \n",
            "                                                                 \n",
            " dense_14 (Dense)            (None, 1)                 65        \n",
            "                                                                 \n",
            "=================================================================\n",
            "Total params: 322,209\n",
            "Trainable params: 322,209\n",
            "Non-trainable params: 0\n",
            "_________________________________________________________________\n"
          ]
        }
      ]
    },
    {
      "cell_type": "markdown",
      "source": [
        ""
      ],
      "metadata": {
        "id": "b_aJcWcb0ZNk"
      }
    },
    {
      "cell_type": "code",
      "source": [
        "history_dict_3 = history_3.history\n",
        "loss_values = history_dict_3[\"loss\"]\n",
        "val_loss_values = history_dict_3[\"val_loss\"]\n",
        "epochs = range(1, len(loss_values) + 1)\n",
        "plt.plot(epochs, loss_values, \"bo\", label=\"Training loss\")\n",
        "plt.plot(epochs, val_loss_values, \"b\", label=\"Validation loss\")\n",
        "plt.title(\"Training and validation loss\")\n",
        "plt.xlabel(\"Epochs\")\n",
        "plt.ylabel(\"Loss\")\n",
        "plt.legend()\n",
        "plt.show()\n"
      ],
      "metadata": {
        "colab": {
          "base_uri": "https://localhost:8080/",
          "height": 295
        },
        "id": "kvj88rYV8Z1y",
        "outputId": "d07107ab-f58a-42f3-8ba8-06d33e351317"
      },
      "execution_count": 31,
      "outputs": [
        {
          "output_type": "display_data",
          "data": {
            "image/png": "[encoded data removed]",
            "text/plain": [
              "<Figure size 432x288 with 1 Axes>"
            ]
          },
          "metadata": {
            "needs_background": "light"
          }
        }
      ]
    },
    {
      "cell_type": "code",
      "source": [
        "plt.clf()\n",
        "acc = history_dict_3[\"accuracy\"]\n",
        "val_acc = history_dict_3[\"val_accuracy\"]\n",
        "plt.plot(epochs, acc, \"bo\", label=\"Training acc\")\n",
        "plt.plot(epochs, val_acc, \"b\", label=\"Validation acc\")\n",
        "plt.title(\"Training and validation accuracy\")\n",
        "plt.xlabel(\"Epochs\")\n",
        "plt.ylabel(\"Accuracy\")\n",
        "plt.legend()\n",
        "plt.show()\n"
      ],
      "metadata": {
        "colab": {
          "base_uri": "https://localhost:8080/",
          "height": 295
        },
        "id": "fr6fMFMR8f0z",
        "outputId": "9dfbfc31-e58b-404e-e298-e7278d483a27"
      },
      "execution_count": 32,
      "outputs": [
        {
          "output_type": "display_data",
          "data": {
            "image/png": "[encoded data removed]",
            "text/plain": [
              "<Figure size 432x288 with 1 Axes>"
            ]
          },
          "metadata": {
            "needs_background": "light"
          }
        }
      ]
    },
    {
      "cell_type": "markdown",
      "source": [
        "The minimum validation loss is observed at 2.5th epoch and maximum validation accuracy is observed between  2.5th  and 3rd epochs."
      ],
      "metadata": {
        "id": "ZG-BTaDk8mYX"
      }
    },
    {
      "cell_type": "markdown",
      "source": [
        "# 3.Try using the 'mse' loss function instead of 'binary_crossentropy"
      ],
      "metadata": {
        "id": "gHqc2nEG8ruK"
      }
    },
    {
      "cell_type": "code",
      "source": [
        "model_4 = keras.Sequential([\n",
        "layers.Dense(16, activation=\"relu\"),\n",
        "layers.Dense(16, activation=\"relu\"),\n",
        "layers.Dense(1, activation=\"sigmoid\")\n",
        "])\n"
      ],
      "metadata": {
        "id": "w9JfsT0_8vM3"
      },
      "execution_count": 33,
      "outputs": []
    },
    {
      "cell_type": "markdown",
      "source": [
        "#We are using rmsprop and mse"
      ],
      "metadata": {
        "id": "FCg0MVfJ81nS"
      }
    },
    {
      "cell_type": "code",
      "source": [
        "model_4.compile(optimizer=\"rmsprop\",\n",
        "loss=\"mse\",\n",
        "metrics=[\"accuracy\"])\n"
      ],
      "metadata": {
        "id": "4XxBq1pc82mN"
      },
      "execution_count": 34,
      "outputs": []
    },
    {
      "cell_type": "markdown",
      "source": [
        "# Training your model"
      ],
      "metadata": {
        "id": "GQqpJIvt89PR"
      }
    },
    {
      "cell_type": "code",
      "source": [
        "history_4 = model_4.fit(partial_x_train,\n",
        "partial_y_train,\n",
        "epochs=20,\n",
        "batch_size=512,\n",
        "validation_data=(x_val, y_val))\n"
      ],
      "metadata": {
        "colab": {
          "base_uri": "https://localhost:8080/",
          "height": 0
        },
        "id": "q6Uz9C1E8-8e",
        "outputId": "17544697-36b7-4450-8893-c490824b30e5"
      },
      "execution_count": 35,
      "outputs": [
        {
          "output_type": "stream",
          "name": "stdout",
          "text": [
            "Epoch 1/20\n",
            "30/30 [==============================] - 2s 50ms/step - loss: 0.1720 - accuracy: 0.7875 - val_loss: 0.1205 - val_accuracy: 0.8763\n",
            "Epoch 2/20\n",
            "30/30 [==============================] - 1s 37ms/step - loss: 0.0931 - accuracy: 0.9063 - val_loss: 0.0943 - val_accuracy: 0.8879\n",
            "Epoch 3/20\n",
            "30/30 [==============================] - 1s 39ms/step - loss: 0.0670 - accuracy: 0.9281 - val_loss: 0.0891 - val_accuracy: 0.8855\n",
            "Epoch 4/20\n",
            "30/30 [==============================] - 1s 36ms/step - loss: 0.0517 - accuracy: 0.9457 - val_loss: 0.0844 - val_accuracy: 0.8861\n",
            "Epoch 5/20\n",
            "30/30 [==============================] - 1s 36ms/step - loss: 0.0419 - accuracy: 0.9552 - val_loss: 0.0836 - val_accuracy: 0.8855\n",
            "Epoch 6/20\n",
            "30/30 [==============================] - 1s 36ms/step - loss: 0.0336 - accuracy: 0.9657 - val_loss: 0.0853 - val_accuracy: 0.8832\n",
            "Epoch 7/20\n",
            "30/30 [==============================] - 1s 36ms/step - loss: 0.0274 - accuracy: 0.9746 - val_loss: 0.0858 - val_accuracy: 0.8820\n",
            "Epoch 8/20\n",
            "30/30 [==============================] - 1s 36ms/step - loss: 0.0228 - accuracy: 0.9793 - val_loss: 0.0879 - val_accuracy: 0.8799\n",
            "Epoch 9/20\n",
            "30/30 [==============================] - 1s 39ms/step - loss: 0.0192 - accuracy: 0.9825 - val_loss: 0.0907 - val_accuracy: 0.8768\n",
            "Epoch 10/20\n",
            "30/30 [==============================] - 1s 36ms/step - loss: 0.0159 - accuracy: 0.9868 - val_loss: 0.0928 - val_accuracy: 0.8781\n",
            "Epoch 11/20\n",
            "30/30 [==============================] - 1s 40ms/step - loss: 0.0126 - accuracy: 0.9907 - val_loss: 0.0946 - val_accuracy: 0.8766\n",
            "Epoch 12/20\n",
            "30/30 [==============================] - 1s 36ms/step - loss: 0.0099 - accuracy: 0.9929 - val_loss: 0.0965 - val_accuracy: 0.8735\n",
            "Epoch 13/20\n",
            "30/30 [==============================] - 1s 36ms/step - loss: 0.0089 - accuracy: 0.9931 - val_loss: 0.0998 - val_accuracy: 0.8720\n",
            "Epoch 14/20\n",
            "30/30 [==============================] - 1s 35ms/step - loss: 0.0075 - accuracy: 0.9940 - val_loss: 0.1008 - val_accuracy: 0.8688\n",
            "Epoch 15/20\n",
            "30/30 [==============================] - 1s 36ms/step - loss: 0.0063 - accuracy: 0.9949 - val_loss: 0.1041 - val_accuracy: 0.8669\n",
            "Epoch 16/20\n",
            "30/30 [==============================] - 1s 36ms/step - loss: 0.0042 - accuracy: 0.9970 - val_loss: 0.1060 - val_accuracy: 0.8651\n",
            "Epoch 17/20\n",
            "30/30 [==============================] - 1s 36ms/step - loss: 0.0052 - accuracy: 0.9955 - val_loss: 0.1045 - val_accuracy: 0.8675\n",
            "Epoch 18/20\n",
            "30/30 [==============================] - 1s 36ms/step - loss: 0.0031 - accuracy: 0.9975 - val_loss: 0.1077 - val_accuracy: 0.8642\n",
            "Epoch 19/20\n",
            "30/30 [==============================] - 1s 36ms/step - loss: 0.0045 - accuracy: 0.9958 - val_loss: 0.1076 - val_accuracy: 0.8675\n",
            "Epoch 20/20\n",
            "30/30 [==============================] - 1s 35ms/step - loss: 0.0024 - accuracy: 0.9979 - val_loss: 0.1088 - val_accuracy: 0.8660\n"
          ]
        }
      ]
    },
    {
      "cell_type": "code",
      "source": [
        "history_dict_4 = history_4.history\n",
        "loss_values = history_dict_4[\"loss\"]\n",
        "val_loss_values = history_dict_4[\"val_loss\"]\n",
        "epochs = range(1, len(loss_values) + 1)\n",
        "plt.plot(epochs, loss_values, \"bo\", label=\"Training loss\")\n",
        "plt.plot(epochs, val_loss_values, \"b\", label=\"Validation loss\")\n",
        "plt.title(\"Training and validation loss\")\n",
        "plt.xlabel(\"Epochs\")\n",
        "plt.ylabel(\"Loss\")\n",
        "plt.legend()\n",
        "plt.show()\n"
      ],
      "metadata": {
        "colab": {
          "base_uri": "https://localhost:8080/",
          "height": 295
        },
        "id": "RIodazza9Rto",
        "outputId": "98a1f937-7c41-4cc5-d468-9f712bf2f7f4"
      },
      "execution_count": 36,
      "outputs": [
        {
          "output_type": "display_data",
          "data": {
            "image/png": "[encoded data removed]",
            "text/plain": [
              "<Figure size 432x288 with 1 Axes>"
            ]
          },
          "metadata": {
            "needs_background": "light"
          }
        }
      ]
    },
    {
      "cell_type": "markdown",
      "source": [
        "Here, the minimum validation loss is observed in 3rd epoch"
      ],
      "metadata": {
        "id": "BSOZS4vw9WLJ"
      }
    },
    {
      "cell_type": "markdown",
      "source": [
        "# Plotting the training and validation accuracy"
      ],
      "metadata": {
        "id": "02iyYPsy9Yhh"
      }
    },
    {
      "cell_type": "code",
      "source": [
        "18\n",
        "plt.clf()\n",
        "acc = history_dict_4[\"accuracy\"]\n",
        "val_acc = history_dict_4[\"val_accuracy\"]\n",
        "plt.plot(epochs, acc, \"bo\", label=\"Training acc\")\n",
        "plt.plot(epochs, val_acc, \"b\", label=\"Validation acc\")\n",
        "plt.title(\"Training and validation accuracy\")\n",
        "plt.xlabel(\"Epochs\")\n",
        "plt.ylabel(\"Accuracy\")\n",
        "plt.legend()\n",
        "plt.show()\n"
      ],
      "metadata": {
        "colab": {
          "base_uri": "https://localhost:8080/",
          "height": 295
        },
        "id": "gnZfSrzC9dGf",
        "outputId": "36a0f4ed-1768-447c-f63e-0c6275764f79"
      },
      "execution_count": 37,
      "outputs": [
        {
          "output_type": "display_data",
          "data": {
            "image/png": "[encoded data removed]",
            "text/plain": [
              "<Figure size 432x288 with 1 Axes>"
            ]
          },
          "metadata": {
            "needs_background": "light"
          }
        }
      ]
    },
    {
      "cell_type": "markdown",
      "source": [
        "Here, the maximum accuracy is observed in 2nd and 3rd epochs."
      ],
      "metadata": {
        "id": "ToezVezI9jFi"
      }
    },
    {
      "cell_type": "markdown",
      "source": [
        "# 4.Try using the tanh activation (an activation that was popular in the early␣\n",
        ",→days of neural networks) instead of 'relu'\n"
      ],
      "metadata": {
        "id": "IlKDui4R9lcw"
      }
    },
    {
      "cell_type": "code",
      "source": [
        "model_5 = keras.Sequential([\n",
        "layers.Dense(16, activation=\"tanh\"),\n",
        "layers.Dense(16, activation=\"tanh\"),\n",
        "layers.Dense(1, activation=\"sigmoid\")\n",
        "])\n"
      ],
      "metadata": {
        "id": "IF2Bb--H9oVZ"
      },
      "execution_count": 38,
      "outputs": []
    },
    {
      "cell_type": "markdown",
      "source": [
        "# here we are using rmsprop and mse "
      ],
      "metadata": {
        "id": "NOThRzBK9tMH"
      }
    },
    {
      "cell_type": "code",
      "source": [
        ""
      ],
      "metadata": {
        "id": "JY9L_kn69waq"
      },
      "execution_count": null,
      "outputs": []
    },
    {
      "cell_type": "code",
      "source": [
        "model_5.compile(optimizer=\"rmsprop\",\n",
        "loss=\"mse\",\n",
        "metrics=[\"accuracy\"])\n"
      ],
      "metadata": {
        "id": "Umf4z37P9wfy"
      },
      "execution_count": 39,
      "outputs": []
    },
    {
      "cell_type": "code",
      "source": [
        "history_5 = model_5.fit(partial_x_train,\n",
        "partial_y_train,\n",
        "epochs=20,\n",
        "batch_size=512,\n",
        "validation_data=(x_val, y_val))\n"
      ],
      "metadata": {
        "colab": {
          "base_uri": "https://localhost:8080/",
          "height": 0
        },
        "id": "uTp7ykOF92DN",
        "outputId": "255a245c-4ce9-4180-d5e6-10e6af0f1e19"
      },
      "execution_count": 40,
      "outputs": [
        {
          "output_type": "stream",
          "name": "stdout",
          "text": [
            "Epoch 1/20\n",
            "30/30 [==============================] - 3s 54ms/step - loss: 0.1589 - accuracy: 0.8005 - val_loss: 0.1145 - val_accuracy: 0.8635\n",
            "Epoch 2/20\n",
            "30/30 [==============================] - 1s 35ms/step - loss: 0.0827 - accuracy: 0.9083 - val_loss: 0.0895 - val_accuracy: 0.8849\n",
            "Epoch 3/20\n",
            "30/30 [==============================] - 1s 34ms/step - loss: 0.0569 - accuracy: 0.9349 - val_loss: 0.0822 - val_accuracy: 0.8905\n",
            "Epoch 4/20\n",
            "30/30 [==============================] - 1s 35ms/step - loss: 0.0424 - accuracy: 0.9511 - val_loss: 0.0822 - val_accuracy: 0.8887\n",
            "Epoch 5/20\n",
            "30/30 [==============================] - 1s 35ms/step - loss: 0.0326 - accuracy: 0.9635 - val_loss: 0.0888 - val_accuracy: 0.8804\n",
            "Epoch 6/20\n",
            "30/30 [==============================] - 1s 46ms/step - loss: 0.0258 - accuracy: 0.9717 - val_loss: 0.0898 - val_accuracy: 0.8808\n",
            "Epoch 7/20\n",
            "30/30 [==============================] - 2s 60ms/step - loss: 0.0200 - accuracy: 0.9772 - val_loss: 0.1082 - val_accuracy: 0.8621\n",
            "Epoch 8/20\n",
            "30/30 [==============================] - 1s 36ms/step - loss: 0.0147 - accuracy: 0.9845 - val_loss: 0.0993 - val_accuracy: 0.8750\n",
            "Epoch 9/20\n",
            "30/30 [==============================] - 1s 36ms/step - loss: 0.0130 - accuracy: 0.9863 - val_loss: 0.1047 - val_accuracy: 0.8710\n",
            "Epoch 10/20\n",
            "30/30 [==============================] - 1s 36ms/step - loss: 0.0124 - accuracy: 0.9859 - val_loss: 0.1067 - val_accuracy: 0.8691\n",
            "Epoch 11/20\n",
            "30/30 [==============================] - 1s 37ms/step - loss: 0.0101 - accuracy: 0.9887 - val_loss: 0.1085 - val_accuracy: 0.8710\n",
            "Epoch 12/20\n",
            "30/30 [==============================] - 1s 37ms/step - loss: 0.0058 - accuracy: 0.9945 - val_loss: 0.1106 - val_accuracy: 0.8707\n",
            "Epoch 13/20\n",
            "30/30 [==============================] - 1s 37ms/step - loss: 0.0097 - accuracy: 0.9894 - val_loss: 0.1144 - val_accuracy: 0.8664\n",
            "Epoch 14/20\n",
            "30/30 [==============================] - 1s 37ms/step - loss: 0.0045 - accuracy: 0.9957 - val_loss: 0.1135 - val_accuracy: 0.8696\n",
            "Epoch 15/20\n",
            "30/30 [==============================] - 1s 40ms/step - loss: 0.0044 - accuracy: 0.9957 - val_loss: 0.1642 - val_accuracy: 0.8163\n",
            "Epoch 16/20\n",
            "30/30 [==============================] - 1s 38ms/step - loss: 0.0078 - accuracy: 0.9907 - val_loss: 0.1171 - val_accuracy: 0.8663\n",
            "Epoch 17/20\n",
            "30/30 [==============================] - 1s 36ms/step - loss: 0.0077 - accuracy: 0.9909 - val_loss: 0.1176 - val_accuracy: 0.8673\n",
            "Epoch 18/20\n",
            "30/30 [==============================] - 1s 37ms/step - loss: 0.0037 - accuracy: 0.9964 - val_loss: 0.1264 - val_accuracy: 0.8583\n",
            "Epoch 19/20\n",
            "30/30 [==============================] - 1s 36ms/step - loss: 0.0035 - accuracy: 0.9965 - val_loss: 0.1248 - val_accuracy: 0.8603\n",
            "Epoch 20/20\n",
            "30/30 [==============================] - 1s 36ms/step - loss: 0.0069 - accuracy: 0.9919 - val_loss: 0.1214 - val_accuracy: 0.8631\n"
          ]
        }
      ]
    },
    {
      "cell_type": "code",
      "source": [
        "history_dict_5 = history_5.history\n",
        "loss_values = history_dict_5[\"loss\"]\n",
        "val_loss_values = history_dict_5[\"val_loss\"]\n",
        "epochs = range(1, len(loss_values) + 1)\n",
        "plt.plot(epochs, loss_values, \"bo\", label=\"Training loss\")\n",
        "plt.plot(epochs, val_loss_values, \"b\", label=\"Validation loss\")\n",
        "plt.title(\"Training and validation loss\")\n",
        "plt.xlabel(\"Epochs\")\n",
        "plt.ylabel(\"Loss\")\n",
        "plt.legend()\n",
        "plt.show()\n"
      ],
      "metadata": {
        "colab": {
          "base_uri": "https://localhost:8080/",
          "height": 295
        },
        "id": "Ki9YJpyl-BEe",
        "outputId": "022df8c2-3fd7-4b10-a91c-b278e6b29373"
      },
      "execution_count": 41,
      "outputs": [
        {
          "output_type": "display_data",
          "data": {
            "image/png": "[encoded data removed]",
            "text/plain": [
              "<Figure size 432x288 with 1 Axes>"
            ]
          },
          "metadata": {
            "needs_background": "light"
          }
        }
      ]
    },
    {
      "cell_type": "markdown",
      "source": [
        "# Plotting the training and validation accuracy"
      ],
      "metadata": {
        "id": "FaMLIlSa-GWe"
      }
    },
    {
      "cell_type": "code",
      "source": [
        "plt.clf()\n",
        "acc = history_dict_5[\"accuracy\"]\n",
        "val_acc = history_dict_5[\"val_accuracy\"]\n",
        "plt.plot(epochs, acc, \"bo\", label=\"Training acc\")\n",
        "plt.plot(epochs, val_acc, \"b\", label=\"Validation acc\")\n",
        "plt.title(\"Training and validation accuracy\")\n",
        "plt.xlabel(\"Epochs\")\n",
        "plt.ylabel(\"Accuracy\")\n",
        "plt.legend()\n",
        "plt.show()\n"
      ],
      "metadata": {
        "colab": {
          "base_uri": "https://localhost:8080/",
          "height": 295
        },
        "id": "tsJ5MhR2-H0s",
        "outputId": "c38c1ec3-c090-43b5-ce58-19f71f05541f"
      },
      "execution_count": 42,
      "outputs": [
        {
          "output_type": "display_data",
          "data": {
            "image/png": "[encoded data removed]",
            "text/plain": [
              "<Figure size 432x288 with 1 Axes>"
            ]
          },
          "metadata": {
            "needs_background": "light"
          }
        }
      ]
    },
    {
      "cell_type": "markdown",
      "source": [
        "5.Use any technique we studied in class, and these include regularization,␣\n",
        ",→dropout, etc., to get your model to perform better on validation.\n"
      ],
      "metadata": {
        "id": "kYU77NGI-Mzs"
      }
    },
    {
      "cell_type": "code",
      "source": [
        "model_6 = keras.Sequential([\n",
        "#layers.Dropout(0.2),\n",
        "layers.Dense(20, activation=\"relu\"),\n",
        "layers.Dropout(0.2),\n",
        "layers.Dense(15, activation=\"relu\"),\n",
        "layers.Dense(1, activation=\"sigmoid\")\n",
        "])\n"
      ],
      "metadata": {
        "id": "BMlLnA7I-SM_"
      },
      "execution_count": 43,
      "outputs": []
    },
    {
      "cell_type": "markdown",
      "source": [
        "# Model completion"
      ],
      "metadata": {
        "id": "IJDMcYZZ-ZxS"
      }
    },
    {
      "cell_type": "code",
      "source": [
        "model_6.compile(optimizer=\"rmsprop\",\n",
        "loss=\"binary_crossentropy\",\n",
        "metrics=[\"accuracy\"])\n",
        "history_6 = model_6.fit(partial_x_train,\n",
        "partial_y_train,\n",
        "epochs=20,\n",
        "batch_size=512,\n",
        "validation_data=(x_val, y_val))\n"
      ],
      "metadata": {
        "colab": {
          "base_uri": "https://localhost:8080/",
          "height": 0
        },
        "id": "KFQh0_bV-a1a",
        "outputId": "5c35dc37-0087-4302-d949-e54f1aed7e82"
      },
      "execution_count": 44,
      "outputs": [
        {
          "output_type": "stream",
          "name": "stdout",
          "text": [
            "Epoch 1/20\n",
            "30/30 [==============================] - 3s 77ms/step - loss: 0.5114 - accuracy: 0.7702 - val_loss: 0.3626 - val_accuracy: 0.8759\n",
            "Epoch 2/20\n",
            "30/30 [==============================] - 1s 39ms/step - loss: 0.3204 - accuracy: 0.8874 - val_loss: 0.2983 - val_accuracy: 0.8884\n",
            "Epoch 3/20\n",
            "30/30 [==============================] - 1s 40ms/step - loss: 0.2396 - accuracy: 0.9173 - val_loss: 0.2891 - val_accuracy: 0.8851\n",
            "Epoch 4/20\n",
            "30/30 [==============================] - 1s 39ms/step - loss: 0.1930 - accuracy: 0.9324 - val_loss: 0.2717 - val_accuracy: 0.8900\n",
            "Epoch 5/20\n",
            "30/30 [==============================] - 1s 40ms/step - loss: 0.1575 - accuracy: 0.9451 - val_loss: 0.2775 - val_accuracy: 0.8892\n",
            "Epoch 6/20\n",
            "30/30 [==============================] - 1s 39ms/step - loss: 0.1321 - accuracy: 0.9575 - val_loss: 0.3279 - val_accuracy: 0.8753\n",
            "Epoch 7/20\n",
            "30/30 [==============================] - 1s 39ms/step - loss: 0.1077 - accuracy: 0.9656 - val_loss: 0.3070 - val_accuracy: 0.8863\n",
            "Epoch 8/20\n",
            "30/30 [==============================] - 1s 38ms/step - loss: 0.0908 - accuracy: 0.9699 - val_loss: 0.3279 - val_accuracy: 0.8855\n",
            "Epoch 9/20\n",
            "30/30 [==============================] - 1s 39ms/step - loss: 0.0717 - accuracy: 0.9780 - val_loss: 0.3564 - val_accuracy: 0.8827\n",
            "Epoch 10/20\n",
            "30/30 [==============================] - 1s 40ms/step - loss: 0.0614 - accuracy: 0.9828 - val_loss: 0.3722 - val_accuracy: 0.8802\n",
            "Epoch 11/20\n",
            "30/30 [==============================] - 1s 39ms/step - loss: 0.0483 - accuracy: 0.9861 - val_loss: 0.4085 - val_accuracy: 0.8801\n",
            "Epoch 12/20\n",
            "30/30 [==============================] - 1s 39ms/step - loss: 0.0389 - accuracy: 0.9900 - val_loss: 0.4904 - val_accuracy: 0.8728\n",
            "Epoch 13/20\n",
            "30/30 [==============================] - 1s 39ms/step - loss: 0.0299 - accuracy: 0.9921 - val_loss: 0.4840 - val_accuracy: 0.8779\n",
            "Epoch 14/20\n",
            "30/30 [==============================] - 1s 40ms/step - loss: 0.0265 - accuracy: 0.9931 - val_loss: 0.5021 - val_accuracy: 0.8738\n",
            "Epoch 15/20\n",
            "30/30 [==============================] - 1s 39ms/step - loss: 0.0176 - accuracy: 0.9965 - val_loss: 0.5843 - val_accuracy: 0.8721\n",
            "Epoch 16/20\n",
            "30/30 [==============================] - 1s 39ms/step - loss: 0.0152 - accuracy: 0.9969 - val_loss: 0.5997 - val_accuracy: 0.8745\n",
            "Epoch 17/20\n",
            "30/30 [==============================] - 1s 39ms/step - loss: 0.0125 - accuracy: 0.9974 - val_loss: 0.6198 - val_accuracy: 0.8723\n",
            "Epoch 18/20\n",
            "30/30 [==============================] - 1s 39ms/step - loss: 0.0083 - accuracy: 0.9988 - val_loss: 0.6712 - val_accuracy: 0.8737\n",
            "Epoch 19/20\n",
            "30/30 [==============================] - 1s 39ms/step - loss: 0.0101 - accuracy: 0.9977 - val_loss: 0.7011 - val_accuracy: 0.8734\n",
            "Epoch 20/20\n",
            "30/30 [==============================] - 1s 40ms/step - loss: 0.0053 - accuracy: 0.9995 - val_loss: 0.7412 - val_accuracy: 0.8689\n"
          ]
        }
      ]
    },
    {
      "cell_type": "markdown",
      "source": [
        "# Compiling the model"
      ],
      "metadata": {
        "id": "Ei4dB_S6-nqo"
      }
    },
    {
      "cell_type": "code",
      "source": [
        "model_5.compile(optimizer=\"rmsprop\",\n",
        "              loss=\"binary_crossentropy\",\n",
        "              metrics=[\"accuracy\"])\n"
      ],
      "metadata": {
        "id": "HC6qeZhr-opu"
      },
      "execution_count": 45,
      "outputs": []
    },
    {
      "cell_type": "code",
      "source": [
        "history_6 = model_6.fit(partial_x_train,\n",
        "partial_y_train,\n",
        "epochs=20,\n",
        "batch_size=512,\n",
        "validation_data=(x_val, y_val))\n"
      ],
      "metadata": {
        "colab": {
          "base_uri": "https://localhost:8080/",
          "height": 0
        },
        "id": "KS1zkBLT-sL5",
        "outputId": "62b8b198-a7d1-41c6-a9f2-6c05eb266f26"
      },
      "execution_count": 46,
      "outputs": [
        {
          "output_type": "stream",
          "name": "stdout",
          "text": [
            "Epoch 1/20\n",
            "30/30 [==============================] - 1s 46ms/step - loss: 0.0054 - accuracy: 0.9989 - val_loss: 0.8534 - val_accuracy: 0.8588\n",
            "Epoch 2/20\n",
            "30/30 [==============================] - 1s 39ms/step - loss: 0.0060 - accuracy: 0.9986 - val_loss: 0.8519 - val_accuracy: 0.8615\n",
            "Epoch 3/20\n",
            "30/30 [==============================] - 1s 40ms/step - loss: 0.0053 - accuracy: 0.9988 - val_loss: 0.8135 - val_accuracy: 0.8706\n",
            "Epoch 4/20\n",
            "30/30 [==============================] - 1s 39ms/step - loss: 0.0029 - accuracy: 0.9994 - val_loss: 0.8774 - val_accuracy: 0.8700\n",
            "Epoch 5/20\n",
            "30/30 [==============================] - 1s 39ms/step - loss: 0.0025 - accuracy: 0.9997 - val_loss: 0.9495 - val_accuracy: 0.8688\n",
            "Epoch 6/20\n",
            "30/30 [==============================] - 1s 40ms/step - loss: 0.0031 - accuracy: 0.9993 - val_loss: 0.9535 - val_accuracy: 0.8685\n",
            "Epoch 7/20\n",
            "30/30 [==============================] - 1s 40ms/step - loss: 0.0033 - accuracy: 0.9993 - val_loss: 0.9895 - val_accuracy: 0.8687\n",
            "Epoch 8/20\n",
            "30/30 [==============================] - 1s 39ms/step - loss: 0.0033 - accuracy: 0.9995 - val_loss: 0.9743 - val_accuracy: 0.8681\n",
            "Epoch 9/20\n",
            "30/30 [==============================] - 1s 40ms/step - loss: 0.0029 - accuracy: 0.9991 - val_loss: 1.0236 - val_accuracy: 0.8690\n",
            "Epoch 10/20\n",
            "30/30 [==============================] - 1s 39ms/step - loss: 0.0038 - accuracy: 0.9994 - val_loss: 1.0304 - val_accuracy: 0.8679\n",
            "Epoch 11/20\n",
            "30/30 [==============================] - 1s 39ms/step - loss: 0.0032 - accuracy: 0.9994 - val_loss: 1.0484 - val_accuracy: 0.8692\n",
            "Epoch 12/20\n",
            "30/30 [==============================] - 1s 39ms/step - loss: 0.0019 - accuracy: 0.9997 - val_loss: 1.0720 - val_accuracy: 0.8680\n",
            "Epoch 13/20\n",
            "30/30 [==============================] - 1s 41ms/step - loss: 0.0021 - accuracy: 0.9995 - val_loss: 1.2658 - val_accuracy: 0.8618\n",
            "Epoch 14/20\n",
            "30/30 [==============================] - 1s 39ms/step - loss: 0.0026 - accuracy: 0.9995 - val_loss: 1.1011 - val_accuracy: 0.8691\n",
            "Epoch 15/20\n",
            "30/30 [==============================] - 1s 40ms/step - loss: 0.0015 - accuracy: 0.9997 - val_loss: 1.1699 - val_accuracy: 0.8687\n",
            "Epoch 16/20\n",
            "30/30 [==============================] - 1s 39ms/step - loss: 0.0031 - accuracy: 0.9995 - val_loss: 1.1452 - val_accuracy: 0.8681\n",
            "Epoch 17/20\n",
            "30/30 [==============================] - 1s 39ms/step - loss: 0.0014 - accuracy: 0.9998 - val_loss: 1.1734 - val_accuracy: 0.8699\n",
            "Epoch 18/20\n",
            "30/30 [==============================] - 1s 40ms/step - loss: 0.0029 - accuracy: 0.9995 - val_loss: 1.2055 - val_accuracy: 0.8683\n",
            "Epoch 19/20\n",
            "30/30 [==============================] - 1s 40ms/step - loss: 0.0019 - accuracy: 0.9995 - val_loss: 1.2336 - val_accuracy: 0.8689\n",
            "Epoch 20/20\n",
            "30/30 [==============================] - 1s 39ms/step - loss: 0.0031 - accuracy: 0.9993 - val_loss: 1.2154 - val_accuracy: 0.8667\n"
          ]
        }
      ]
    },
    {
      "cell_type": "code",
      "source": [
        "history_dict_6 = history_6.history\n",
        "loss_values = history_dict_6[\"loss\"]\n",
        "val_loss_values = history_dict_6[\"val_loss\"]\n",
        "epochs = range(1, len(loss_values) + 1)\n",
        "plt.plot(epochs, loss_values, \"bo\", label=\"Training loss\")\n",
        "plt.plot(epochs, val_loss_values, \"b\", label=\"Validation loss\")\n",
        "plt.title(\"Training and validation loss\")\n",
        "plt.xlabel(\"Epochs\")\n",
        "plt.ylabel(\"Loss\")\n",
        "plt.legend()\n",
        "plt.show()\n"
      ],
      "metadata": {
        "colab": {
          "base_uri": "https://localhost:8080/",
          "height": 295
        },
        "id": "qaKrVsro-37_",
        "outputId": "691423a5-0094-4bf7-bfbd-a43b04b36856"
      },
      "execution_count": 47,
      "outputs": [
        {
          "output_type": "display_data",
          "data": {
            "image/png": "[encoded data removed]",
            "text/plain": [
              "<Figure size 432x288 with 1 Axes>"
            ]
          },
          "metadata": {
            "needs_background": "light"
          }
        }
      ]
    },
    {
      "cell_type": "markdown",
      "source": [
        "# Plotting the training and validation accuracy"
      ],
      "metadata": {
        "id": "ITEhwIb0-72S"
      }
    },
    {
      "cell_type": "code",
      "source": [
        "plt.clf()\n",
        "acc = history_dict_6[\"accuracy\"]\n",
        "val_acc = history_dict_6[\"val_accuracy\"]\n",
        "plt.plot(epochs, acc, \"bo\", label=\"Training acc\")\n",
        "plt.plot(epochs, val_acc, \"b\", label=\"Validation acc\")\n",
        "plt.title(\"Training and validation accuracy\")\n",
        "plt.xlabel(\"Epochs\")\n",
        "plt.ylabel(\"Accuracy\")\n",
        "plt.legend()\n",
        "plt.show()\n"
      ],
      "metadata": {
        "colab": {
          "base_uri": "https://localhost:8080/",
          "height": 295
        },
        "id": "56OIFBTA-8wd",
        "outputId": "d47d8dbd-3c1f-4f56-ef24-5e9569fedc7b"
      },
      "execution_count": 48,
      "outputs": [
        {
          "output_type": "display_data",
          "data": {
            "image/png": "[encoded data removed]",
            "text/plain": [
              "<Figure size 432x288 with 1 Axes>"
            ]
          },
          "metadata": {
            "needs_background": "light"
          }
        }
      ]
    }
  ]
}